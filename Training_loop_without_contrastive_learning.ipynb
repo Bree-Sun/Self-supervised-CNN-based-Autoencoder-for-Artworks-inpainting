{
  "nbformat": 4,
  "nbformat_minor": 0,
  "metadata": {
    "colab": {
      "name": "Training loop without contrastive learning",
      "provenance": [],
      "collapsed_sections": []
    },
    "kernelspec": {
      "name": "python3",
      "display_name": "Python 3"
    },
    "language_info": {
      "name": "python"
    },
    "accelerator": "GPU"
  },
  "cells": [
    {
      "cell_type": "markdown",
      "source": [
        "## To explore possible variations\n",
        "\n",
        "* Trying skip connections within double_conv_layers.\n",
        "* stacking inception modules."
      ],
      "metadata": {
        "id": "Mny60zstay6i"
      }
    },
    {
      "cell_type": "code",
      "execution_count": 2,
      "metadata": {
        "id": "eDB41k6Plpht"
      },
      "outputs": [],
      "source": [
        "import os\n",
        "import gc\n",
        "import PIL\n",
        "import tqdm\n",
        "import torch\n",
        "import random\n",
        "import shutil\n",
        "import torchvision\n",
        "import numpy as np\n",
        "from torch import nn\n",
        "import matplotlib.pyplot as plt\n",
        "from torchsummary import summary\n",
        "from torchvision import datasets, transforms\n",
        "from torch.utils.data import Dataset, DataLoader\n",
        "from sklearn.model_selection import train_test_split"
      ]
    },
    {
      "cell_type": "code",
      "source": [
        "# Unified Configuration Dictionary to change all the configurations in the code\n",
        "\n",
        "CONFIG = {'model_type':'Vanilla_UNet',\n",
        "          'epochs':30,\n",
        "          'lr':5e-4,\n",
        "          'weight_decay':1e-5,\n",
        "          'batch_size_train':64,\n",
        "          'batch_size_eval':256,\n",
        "          'device':\"cuda\" if torch.cuda.is_available() else 'cpu'}"
      ],
      "metadata": {
        "id": "xYq-nwv11k2T"
      },
      "execution_count": 3,
      "outputs": []
    },
    {
      "cell_type": "code",
      "source": [
        "def print_shape(verbose, to_print):\n",
        "  if verbose:\n",
        "    print(to_print)\n",
        "\n",
        "def double_conv_layers(in_channels, out_channels, kernel_size, activation, padding='same', batch_norm=True):\n",
        "  '''\n",
        "  Return Double Convolutional layers given the input parameters\n",
        "\n",
        "  in_channels: input channels for the first convolutional layer\n",
        "  out_channels: output channels for the second convolutional layer\n",
        "  kernel_size: kernel size to use for both the layers\n",
        "  activation: activaiton to apply to both the layers, should pass a activation function and not string.\n",
        "  padding: padding to be applied to the inputs, by default no padding.\n",
        "  batch_norm: if True applies nn.BatchNorm2d() after every Convolutional layer.\n",
        "  '''\n",
        "\n",
        "  if batch_norm:\n",
        "    double_conv = nn.Sequential(\n",
        "                                nn.Conv2d(in_channels, out_channels, kernel_size, padding=padding),\n",
        "                                nn.BatchNorm2d(out_channels),\n",
        "                                activation(inplace=True),\n",
        "                                nn.Conv2d(out_channels, out_channels, kernel_size, padding=padding),\n",
        "                                nn.BatchNorm2d(out_channels),\n",
        "                                activation(inplace=True))\n",
        "  else:\n",
        "    double_conv = nn.Sequential(\n",
        "                                nn.Conv2d(out_channels, out_channels, kernel_size, padding=padding),\n",
        "                                activation(inplace=True),\n",
        "                                nn.Conv2d(out_channels, out_channels, kernel_size, padding=padding),\n",
        "                                activation(inplace=True))\n",
        "  \n",
        "  return double_conv\n",
        "\n",
        "\n",
        "class InceptionModule(nn.Module):\n",
        "  def __init__(self, input_channels, verbose=False):\n",
        "    super().__init__()\n",
        "    \n",
        "    self.verbose = verbose\n",
        "    \n",
        "    if input_channels % 4 == 0:\n",
        "      out_channels = [int(input_channels/4) for i in range(4)]\n",
        "    else:\n",
        "      out_channels = [int(input_channels//4) if i<3 else input_channels - (3*int(input_channels//4)) for i in range(4)]\n",
        "\n",
        "\n",
        "    self.channel_1 = nn.Conv2d(in_channels=input_channels, out_channels=out_channels[0], kernel_size=1, stride=1, padding='same')\n",
        "\n",
        "    self.channel_2 = nn.Sequential(nn.Conv2d(in_channels=input_channels, out_channels=out_channels[1], kernel_size=1, stride=1, padding='same'),\n",
        "                              nn.Conv2d(in_channels=out_channels[1], out_channels=out_channels[1], kernel_size=3, stride=1, padding='same'))\n",
        "    \n",
        "    self.channel_3 = nn.Sequential(nn.Conv2d(in_channels=input_channels, out_channels=out_channels[2], kernel_size=1, stride=1, padding='same'),\n",
        "                              nn.Conv2d(in_channels=out_channels[2], out_channels=out_channels[2], kernel_size=5, stride=1, padding='same'))\n",
        "    \n",
        "    self.channel_4 = nn.Sequential(nn.MaxPool2d(kernel_size=3, stride=1, padding=1),\n",
        "                              nn.Conv2d(in_channels=input_channels, out_channels=out_channels[3], kernel_size=1, stride=1, padding='same'))\n",
        "    \n",
        "  def forward(self, input):\n",
        "    print_shape(self.verbose, f'input shape : {input.shape}')\n",
        "    x1 = self.channel_1(input)\n",
        "    print_shape(self.verbose, f'Channel 1 : {x1.shape}')\n",
        "    x2 = self.channel_2(input)\n",
        "    print_shape(self.verbose, f'Channel 2 : {x2.shape}')\n",
        "    x3 = self.channel_3(input)\n",
        "    print_shape(self.verbose, f'Channel 3 : {x3.shape}')\n",
        "    x4 = self.channel_4(input)\n",
        "    print_shape(self.verbose, f'Channel 4 : {x4.shape}')\n",
        "    x = torch.cat([x1, x2, x3, x4], 1)\n",
        "    print_shape(self.verbose, f'Final shape : {x.shape}')\n",
        "    return x\n",
        "\n",
        "class UNet(nn.Module):\n",
        "  def __init__(self, \n",
        "               down_conv_out=[64, 128, 256, 512], \n",
        "               down_conv_ks=[3, 3, 3, 3],\n",
        "               down_conv_activation=nn.ReLU,\n",
        "               up_conv_out=[256, 128, 64],\n",
        "               up_conv_ks=[3, 3, 3],\n",
        "               up_conv_activation=nn.ReLU,\n",
        "               pad='same',\n",
        "               add_inception=False,\n",
        "               verbose=False):\n",
        "    super().__init__()\n",
        "    \n",
        "\n",
        "    self.down_conv_out = down_conv_out\n",
        "    self.down_conv_ks = down_conv_ks\n",
        "    self.down_conv_activation = down_conv_activation\n",
        "    self.up_conv_out = up_conv_out\n",
        "    self.up_conv_ks = up_conv_ks\n",
        "    self.up_conv_activation = up_conv_activation\n",
        "    self.pad = pad\n",
        "    self.add_inception = add_inception\n",
        "    self.verbose = verbose\n",
        "\n",
        "    # Down Conv Layers\n",
        "    self.down_conv1 = double_conv_layers(3, down_conv_out[0], down_conv_ks[0], down_conv_activation, padding=pad)\n",
        "    self.down_conv2 = double_conv_layers(down_conv_out[0], down_conv_out[1], down_conv_ks[1], down_conv_activation, padding=pad)\n",
        "    self.down_conv3 = double_conv_layers(down_conv_out[1], down_conv_out[2], down_conv_ks[2], down_conv_activation, padding=pad)\n",
        "    self.down_conv4 = double_conv_layers(down_conv_out[2], down_conv_out[3], down_conv_ks[3], down_conv_activation, padding=pad)\n",
        "\n",
        "    # Inception Modules\n",
        "    self.inception_module_1 = InceptionModule(down_conv_out[0])\n",
        "    self.inception_module_2 = InceptionModule(down_conv_out[1])\n",
        "    self.inception_module_3 = InceptionModule(down_conv_out[2])\n",
        "    \n",
        "    # Conv Transpose layers\n",
        "    self.up_transpose1 = nn.ConvTranspose2d(down_conv_out[3], up_conv_out[0], 2, 2)\n",
        "    self.up_transpose2 = nn.ConvTranspose2d(up_conv_out[0], up_conv_out[1], 2, 2)\n",
        "    self.up_transpose3 = nn.ConvTranspose2d(up_conv_out[1], up_conv_out[2], 2, 2)\n",
        "    \n",
        "    # Up Conv Layers\n",
        "    self.up_conv1 = double_conv_layers(down_conv_out[3], up_conv_out[0], up_conv_ks[0], up_conv_activation, padding=pad)\n",
        "    self.up_conv2 = double_conv_layers(up_conv_out[0], up_conv_out[1], up_conv_ks[1], up_conv_activation, padding=pad)\n",
        "    self.up_conv3 = double_conv_layers(up_conv_out[1], up_conv_out[2], up_conv_ks[2], up_conv_activation, padding=pad)\n",
        "\n",
        "    # final output conv\n",
        "    self.output_conv = nn.Conv2d(up_conv_out[2], 3, 1)\n",
        "\n",
        "    # Maxpooling\n",
        "    self.maxpool = nn.MaxPool2d(kernel_size=2, stride=2)\n",
        "\n",
        "\n",
        "  def forward(self, input):\n",
        "\n",
        "    # Down Conv Encoder Part\n",
        "    print_shape(self.verbose, f'Start : {input.shape}')\n",
        "    x1 = self.down_conv1(input)\n",
        "    if self.add_inception:\n",
        "      x1 = self.inception_module_1(x1)\n",
        "    print_shape(self.verbose, f'After Down Conv 1 : {x1.shape}')\n",
        "    x = self.maxpool(x1)\n",
        "    print_shape(self.verbose, f'After maxpool : {x.shape}')\n",
        "    x2 = self.down_conv2(x)\n",
        "    if self.add_inception:\n",
        "      x2 = self.inception_module_2(x2)\n",
        "    print_shape(self.verbose, f'After Down Conv 2 : {x2.shape}')\n",
        "    x = self.maxpool(x2)\n",
        "    print_shape(self.verbose, f'After maxpool : {x.shape}')\n",
        "    x3 = self.down_conv3(x)\n",
        "    if self.add_inception:\n",
        "      x3 = self.inception_module_3(x3)\n",
        "    print_shape(self.verbose, f'After Down Conv 3 : {x3.shape}')\n",
        "    x = self.maxpool(x3)\n",
        "    print_shape(self.verbose, f'After maxpool : {x.shape}')\n",
        "    x4 = self.down_conv4(x)\n",
        "    print_shape(self.verbose, f'After Down Conv 4 : {x4.shape}')\n",
        "\n",
        "    # Up Conv Decoder Part\n",
        "    x = self.up_transpose1(x4)\n",
        "    print_shape(self.verbose, f'After Up Transpose 1 : {x.shape}')\n",
        "    x = self.up_conv1(torch.cat([x, x3], 1)) # skip connection from down_conv3\n",
        "    print_shape(self.verbose, f'After Up Conv 1 : {x.shape}')\n",
        "    x = self.up_transpose2(x)\n",
        "    print_shape(self.verbose, f'After Up Transpose 2 : {x.shape}')\n",
        "    x = self.up_conv2(torch.cat([x, x2], 1)) # skip connection from down_conv2\n",
        "    print_shape(self.verbose, f'After Up Conv 2 : {x.shape}')\n",
        "    x = self.up_transpose3(x)\n",
        "    print_shape(self.verbose, f'After Up Transpose 3 : {x.shape}')\n",
        "    x = self.up_conv3(torch.cat([x, x1], 1)) # skip connection from down_conv1\n",
        "    print_shape(self.verbose, f'After Up Conv 3 : {x.shape}')\n",
        "\n",
        "    # final output conv layer\n",
        "    x = self.output_conv(x)\n",
        "    print_shape(self.verbose, f'After Final output conv : {x.shape}')\n",
        "\n",
        "    return x"
      ],
      "metadata": {
        "id": "rWxYa9IkluBs"
      },
      "execution_count": 4,
      "outputs": []
    },
    {
      "cell_type": "code",
      "source": [
        "# without inception modules\n",
        "image = torch.zeros(1, 3, 128, 128)\n",
        "model = UNet(add_inception=False, verbose=True)\n",
        "x = model(image)"
      ],
      "metadata": {
        "colab": {
          "base_uri": "https://localhost:8080/"
        },
        "id": "uavifefDx--2",
        "outputId": "57ab8c9e-e786-43b8-a3fc-4b6d943f24a1"
      },
      "execution_count": 5,
      "outputs": [
        {
          "output_type": "stream",
          "name": "stdout",
          "text": [
            "Start : torch.Size([1, 3, 128, 128])\n",
            "After Down Conv 1 : torch.Size([1, 64, 128, 128])\n",
            "After maxpool : torch.Size([1, 64, 64, 64])\n",
            "After Down Conv 2 : torch.Size([1, 128, 64, 64])\n",
            "After maxpool : torch.Size([1, 128, 32, 32])\n",
            "After Down Conv 3 : torch.Size([1, 256, 32, 32])\n",
            "After maxpool : torch.Size([1, 256, 16, 16])\n",
            "After Down Conv 4 : torch.Size([1, 512, 16, 16])\n",
            "After Up Transpose 1 : torch.Size([1, 256, 32, 32])\n",
            "After Up Conv 1 : torch.Size([1, 256, 32, 32])\n",
            "After Up Transpose 2 : torch.Size([1, 128, 64, 64])\n",
            "After Up Conv 2 : torch.Size([1, 128, 64, 64])\n",
            "After Up Transpose 3 : torch.Size([1, 64, 128, 128])\n",
            "After Up Conv 3 : torch.Size([1, 64, 128, 128])\n",
            "After Final output conv : torch.Size([1, 3, 128, 128])\n"
          ]
        }
      ]
    },
    {
      "cell_type": "code",
      "source": [
        "# with inception modules\n",
        "image = torch.zeros(1, 3, 128, 128)\n",
        "model = UNet(add_inception=True, verbose=True)\n",
        "x = model(image)"
      ],
      "metadata": {
        "colab": {
          "base_uri": "https://localhost:8080/"
        },
        "id": "YtL6Hix4yeb9",
        "outputId": "7591edc6-8523-4e8a-de7b-3561e4258130"
      },
      "execution_count": 6,
      "outputs": [
        {
          "output_type": "stream",
          "name": "stdout",
          "text": [
            "Start : torch.Size([1, 3, 128, 128])\n",
            "After Down Conv 1 : torch.Size([1, 64, 128, 128])\n",
            "After maxpool : torch.Size([1, 64, 64, 64])\n",
            "After Down Conv 2 : torch.Size([1, 128, 64, 64])\n",
            "After maxpool : torch.Size([1, 128, 32, 32])\n",
            "After Down Conv 3 : torch.Size([1, 256, 32, 32])\n",
            "After maxpool : torch.Size([1, 256, 16, 16])\n",
            "After Down Conv 4 : torch.Size([1, 512, 16, 16])\n",
            "After Up Transpose 1 : torch.Size([1, 256, 32, 32])\n",
            "After Up Conv 1 : torch.Size([1, 256, 32, 32])\n",
            "After Up Transpose 2 : torch.Size([1, 128, 64, 64])\n",
            "After Up Conv 2 : torch.Size([1, 128, 64, 64])\n",
            "After Up Transpose 3 : torch.Size([1, 64, 128, 128])\n",
            "After Up Conv 3 : torch.Size([1, 64, 128, 128])\n",
            "After Final output conv : torch.Size([1, 3, 128, 128])\n"
          ]
        }
      ]
    },
    {
      "cell_type": "code",
      "source": [
        "model = UNet(down_conv_out=[16, 32, 64, 128],\n",
        "             down_conv_ks=[3, 3, 3, 3],\n",
        "             down_conv_activation=nn.ReLU,\n",
        "             up_conv_out=[64, 32, 16],\n",
        "             up_conv_activation=nn.ReLU,\n",
        "             verbose=True)\n",
        "x = model(image)"
      ],
      "metadata": {
        "colab": {
          "base_uri": "https://localhost:8080/"
        },
        "id": "8rGZgHrIRJ4G",
        "outputId": "1247de13-3b9b-4089-912b-e9c113370c45"
      },
      "execution_count": 7,
      "outputs": [
        {
          "output_type": "stream",
          "name": "stdout",
          "text": [
            "Start : torch.Size([1, 3, 128, 128])\n",
            "After Down Conv 1 : torch.Size([1, 16, 128, 128])\n",
            "After maxpool : torch.Size([1, 16, 64, 64])\n",
            "After Down Conv 2 : torch.Size([1, 32, 64, 64])\n",
            "After maxpool : torch.Size([1, 32, 32, 32])\n",
            "After Down Conv 3 : torch.Size([1, 64, 32, 32])\n",
            "After maxpool : torch.Size([1, 64, 16, 16])\n",
            "After Down Conv 4 : torch.Size([1, 128, 16, 16])\n",
            "After Up Transpose 1 : torch.Size([1, 64, 32, 32])\n",
            "After Up Conv 1 : torch.Size([1, 64, 32, 32])\n",
            "After Up Transpose 2 : torch.Size([1, 32, 64, 64])\n",
            "After Up Conv 2 : torch.Size([1, 32, 64, 64])\n",
            "After Up Transpose 3 : torch.Size([1, 16, 128, 128])\n",
            "After Up Conv 3 : torch.Size([1, 16, 128, 128])\n",
            "After Final output conv : torch.Size([1, 3, 128, 128])\n"
          ]
        }
      ]
    },
    {
      "cell_type": "markdown",
      "source": [
        "# Helper Functions"
      ],
      "metadata": {
        "id": "wmURR65HkHen"
      }
    },
    {
      "cell_type": "markdown",
      "source": [
        "### function for generating masks"
      ],
      "metadata": {
        "id": "Rwvzup46knuw"
      }
    },
    {
      "cell_type": "code",
      "source": [
        "!unzip /content/128x128_Train_Val_Dataset.zip"
      ],
      "metadata": {
        "id": "TPdRm36zqRKv"
      },
      "execution_count": null,
      "outputs": []
    },
    {
      "cell_type": "code",
      "source": [
        "def update(arr, x, y):\n",
        "  try: arr[x, y] = False\n",
        "  except: pass\n",
        "  return arr\n",
        "\n",
        "def generate_mask(size):\n",
        "  start_x_1 = np.random.randint(size//2, size-size//2.1)\n",
        "  start_y_1 = np.random.randint(size//2, size-size//2.1)\n",
        "  start_x_2 = start_x_1 + 1\n",
        "  start_y_2 = start_y_1 + 0\n",
        "  start_x_3 = start_x_2 + 1\n",
        "  start_y_3 = start_y_2 + 0\n",
        "  start_x_4 = start_x_3 + 1\n",
        "  start_y_4 = start_y_3 + 0\n",
        "  start_x_5 = start_x_4 + 1\n",
        "  start_y_5 = start_y_4 + 0\n",
        "  start_x_6 = start_x_5 + 1\n",
        "  start_y_6 = start_y_5 + 0\n",
        "  arr = np.full((size, size), True)\n",
        "  arr = update(arr, start_x_1, start_y_1)\n",
        "  arr = update(arr, start_x_2, start_y_2)\n",
        "  arr = update(arr, start_x_3, start_y_3)\n",
        "  arr = update(arr, start_x_4, start_y_4)\n",
        "  arr = update(arr, start_x_5, start_y_5)\n",
        "  arr = update(arr, start_x_6, start_y_6)\n",
        "  x_1 = start_x_1\n",
        "  y_1 = start_y_1\n",
        "  x_2 = start_x_2\n",
        "  y_2 = start_y_2\n",
        "  x_3 = start_x_3\n",
        "  y_3 = start_y_3\n",
        "  x_4 = start_x_4\n",
        "  y_4 = start_y_4\n",
        "  x_5 = start_x_5\n",
        "  y_5 = start_y_5\n",
        "  x_6 = start_x_6\n",
        "  y_6 = start_y_6\n",
        "  for i in range(np.random.randint(10, 30)):\n",
        "    x = -1 if np.random.choice([True, False]) else 1\n",
        "    y = -1 if np.random.choice([True, False]) else 1\n",
        "    for i in range(np.random.randint(5, 20)):\n",
        "      x_1 += x\n",
        "      y_1 += y\n",
        "      x_2 += x\n",
        "      y_2 += y\n",
        "      x_3 += x\n",
        "      y_3 += y\n",
        "      x_4 += x\n",
        "      y_4 += y\n",
        "      x_5 += x\n",
        "      y_5 += y\n",
        "      x_6 += x\n",
        "      y_6 += y\n",
        "      arr = update(arr, x_1, y_1)\n",
        "      arr = update(arr, x_2, y_2)\n",
        "      arr = update(arr, x_3, y_3)\n",
        "      arr = update(arr, x_4, y_4)\n",
        "      arr = update(arr, x_5, y_5)\n",
        "      arr = update(arr, x_6, y_6)\n",
        "  return arr\n",
        "\n",
        "image = plt.imread('/content/processed_dataset/fb737ad1-332d-4332-aa99-59d8a347c5be.jpg')\n",
        "image = np.where(np.dstack([generate_mask(128)]*3), image, 255)\n",
        "plt.figure(figsize=(16, 10))\n",
        "plt.imshow(image)"
      ],
      "metadata": {
        "colab": {
          "base_uri": "https://localhost:8080/",
          "height": 612
        },
        "id": "W2F-KtJoIbnA",
        "outputId": "3ba29648-211f-4811-c438-9ee229b91df9"
      },
      "execution_count": 8,
      "outputs": [
        {
          "output_type": "execute_result",
          "data": {
            "text/plain": [
              "<matplotlib.image.AxesImage at 0x7f4eac181650>"
            ]
          },
          "metadata": {},
          "execution_count": 8
        },
        {
          "output_type": "display_data",
          "data": {
            "image/png": "[encoded data removed]",
            "text/plain": [
              "<Figure size 1152x720 with 1 Axes>"
            ]
          },
          "metadata": {
            "needs_background": "light"
          }
        }
      ]
    },
    {
      "cell_type": "code",
      "source": [
        "CONFIG['masks'] = [torch.from_numpy(np.dstack([generate_mask(128)]*3)) for i in range(10000)]"
      ],
      "metadata": {
        "id": "wYv3lqTF07hV"
      },
      "execution_count": 9,
      "outputs": []
    },
    {
      "cell_type": "markdown",
      "source": [
        "### Making image data directories"
      ],
      "metadata": {
        "id": "lZbkq-08tLiM"
      }
    },
    {
      "cell_type": "markdown",
      "source": [
        "Following code will create the different directories for training, test and validation data for ease of creating dataloaders using the torchvision.datasets.ImageFolder class."
      ],
      "metadata": {
        "id": "FZfprviHwBnz"
      }
    },
    {
      "cell_type": "code",
      "source": [
        "def make_dataset_dirs(base_dir, original_dir, sub_dirs, image_name_lists):\n",
        "  \n",
        "  # check if the base dir exists or not, if not then create base dir\n",
        "  if not os.path.exists(base_dir):\n",
        "    os.mkdir(base_dir)\n",
        "  \n",
        "\n",
        "  # iterating through 3 different sub dirs for creating 3 different ImageFolder datasets\n",
        "  for sub_dir, image_names in zip(sub_dirs, image_name_lists):\n",
        "\n",
        "    dir = os.path.join(base_dir, sub_dir) \n",
        "    \n",
        "    # checking if directory exists or not, if not create the sub directory\n",
        "    if not os.path.exists(dir):\n",
        "      os.mkdir(dir)\n",
        "\n",
        "    dir = os.path.join(dir, 'artwork')\n",
        "    if not os.path.exists(dir):\n",
        "      os.mkdir(dir)\n",
        "\n",
        "    # store the image in the new path\n",
        "    for image_name in image_names:\n",
        "      source = os.path.join(original_dir, image_name)\n",
        "      destination = os.path.join(dir, image_name)\n",
        "      shutil.copyfile(source, destination)\n",
        "\n",
        "train_images, test_images = train_test_split(os.listdir('/content/processed_dataset'), test_size=0.2)\n",
        "train_images, val_images = train_test_split(train_images, test_size=0.2)\n",
        "\n",
        "original_dir = '/content/processed_dataset'\n",
        "base_dir = 'artwork_datasets'\n",
        "sub_dirs = ['train', 'validation', 'test']\n",
        "image_name_lists = [train_images, val_images, test_images]\n",
        "\n",
        "make_dataset_dirs(base_dir, original_dir, sub_dirs, image_name_lists)"
      ],
      "metadata": {
        "id": "B-0rVXjPn54v"
      },
      "execution_count": 10,
      "outputs": []
    },
    {
      "cell_type": "code",
      "source": [
        "# apply the transformations needed\n",
        "transform = transforms.Compose([transforms.ToTensor()])\n",
        "\n",
        "# create the Training, Validation and Testing datasets from the respective paths\n",
        "train_dataset = datasets.ImageFolder('/content/artwork_datasets/train', transform=transform)\n",
        "val_dataset = datasets.ImageFolder('/content/artwork_datasets/validation', transform=transform)\n",
        "test_dataset = datasets.ImageFolder('/content/artwork_datasets/test', transform=transform)\n",
        "\n",
        "# create the Training, Validation and Testing dataloaders from the respective datasets\n",
        "train_dataloader = DataLoader(train_dataset, shuffle=True, batch_size=CONFIG['batch_size_train'], drop_last=True)\n",
        "val_dataloader = DataLoader(val_dataset, shuffle=False, batch_size=CONFIG['batch_size_eval'], drop_last=True)\n",
        "test_dataloader = DataLoader(test_dataset, shuffle=False, batch_size=CONFIG['batch_size_eval'], drop_last=True)"
      ],
      "metadata": {
        "id": "uJ6A5mc-tptL"
      },
      "execution_count": 10,
      "outputs": []
    },
    {
      "cell_type": "markdown",
      "source": [
        "### training and validation code"
      ],
      "metadata": {
        "id": "1fd7EQBmwbzV"
      }
    },
    {
      "cell_type": "code",
      "source": [
        "def get_masked_inputs(targets, masks):\n",
        "  '''\n",
        "  This function outputs the masked inputs.\n",
        "\n",
        "  targets : original images which have not been masked\n",
        "  masks : buffer of masks out of which masks will be samples to mask the original image to create the input masked image\n",
        "  '''\n",
        "  i = [random.choice(range(len(targets))) for i in range(len(targets))]\n",
        "  masks = np.array(masks)\n",
        "  masks = list(masks[i])\n",
        "  masks = torch.stack(masks)\n",
        "  masks = torch.permute(masks, (0, 3, 1, 2))\n",
        "\n",
        "  # get masked_inputs\n",
        "  masked_inputs = torch.tensor(torch.where(masks, targets, 1.0), requires_grad=True)\n",
        "\n",
        "  return masked_inputs\n",
        "\n",
        "def train_one_epoch(model, dataloader, epoch, masks, optimizer, criterion):\n",
        "  model.train()\n",
        "\n",
        "  total_loss = 0\n",
        "  batches_iterated = 1\n",
        "  bar = tqdm.tqdm(enumerate(dataloader), total=len(dataloader))\n",
        "\n",
        "  for step, batch in bar:\n",
        "    targets = batch[0].to(float)\n",
        "    masked_inputs = get_masked_inputs(targets, masks)\n",
        "    masked_inputs = masked_inputs.to(device=CONFIG['device'], dtype=torch.float)\n",
        "    targets = torch.tensor(targets, requires_grad=True).to(device=CONFIG['device'], dtype=torch.float)\n",
        "    #print(masked_inputs.requires_grad, targets.requires_grad)\n",
        "    preds = model(masked_inputs)\n",
        "\n",
        "    loss = criterion(preds, targets)\n",
        "    \n",
        "    # backpropogate the loss\n",
        "    loss.backward()\n",
        "\n",
        "    # update the gradients\n",
        "    optimizer.step()\n",
        "    optimizer.zero_grad() # make the gradients for every param 0\n",
        "\n",
        "    total_loss += loss\n",
        "    batches_iterated += step\n",
        "    epoch_loss = total_loss / batches_iterated\n",
        "\n",
        "    bar.set_postfix(Epoch=epoch, Train_loss=epoch_loss.item())\n",
        "\n",
        "    gc.collect()\n",
        "    torch.cuda.empty_cache()\n",
        "  return epoch_loss\n",
        "\n",
        "@torch.no_grad()\n",
        "def val_one_epoch(model, dataloader, epoch, masks, criterion):\n",
        "  model.eval()\n",
        "\n",
        "  total_loss = 0\n",
        "  batches_iterated = 1\n",
        "  bar = tqdm.tqdm(enumerate(dataloader), total=len(dataloader))\n",
        "\n",
        "  for step, batch in bar:\n",
        "    targets = batch[0].to(float)\n",
        "    masked_inputs = get_masked_inputs(targets, masks)\n",
        "    masked_inputs = masked_inputs.to(device=CONFIG['device'], dtype=torch.float)\n",
        "    targets = targets.to(device=CONFIG['device'], dtype=torch.float)\n",
        "\n",
        "    preds = model(masked_inputs)\n",
        "    loss = criterion(preds, targets)\n",
        "\n",
        "    total_loss += loss\n",
        "    batches_iterated += step\n",
        "    epoch_loss = total_loss / batches_iterated\n",
        "\n",
        "    bar.set_postfix(Epoch=epoch, Validation_loss=epoch_loss.item())\n",
        "    \n",
        "    gc.collect()\n",
        "    torch.cuda.empty_cache()\n",
        "  return epoch_loss\n"
      ],
      "metadata": {
        "id": "iDPhTLBmkGkP"
      },
      "execution_count": 10,
      "outputs": []
    },
    {
      "cell_type": "code",
      "source": [
        "# Training Loop\n",
        "torch.cuda.empty_cache()\n",
        "model = UNet(down_conv_out=[16, 32, 64, 128],\n",
        "             down_conv_ks=[3, 3, 3, 3],\n",
        "             down_conv_activation=nn.ReLU,\n",
        "             up_conv_out=[64, 32, 16],\n",
        "             up_conv_activation=nn.ReLU,\n",
        "             verbose=False).to(device=CONFIG['device'])\n",
        "criterion = nn.MSELoss()\n",
        "optimizer = torch.optim.AdamW(model.parameters(), lr=CONFIG['lr'], weight_decay=CONFIG['weight_decay'])\n",
        "\n",
        "train_loss_list = []\n",
        "val_loss_list = []\n",
        "\n",
        "for epoch in range(CONFIG['epochs']):\n",
        "\n",
        "  train_loss = train_one_epoch(model, train_dataloader, epoch, CONFIG['masks'], optimizer, criterion)\n",
        "  val_loss = val_one_epoch(model, val_dataloader, epoch, CONFIG['masks'], criterion)\n",
        "\n",
        "  train_loss_list.append(train_loss)\n",
        "  val_loss_list.append(val_loss)\n",
        "\n",
        "  if epoch > 5:\n",
        "    torch.save(model.state_dict(), f'{CONFIG[\"model_type\"]}_epoch_{epoch}_.pth')"
      ],
      "metadata": {
        "colab": {
          "base_uri": "https://localhost:8080/"
        },
        "id": "2vK7qGNguq3Y",
        "outputId": "eb95a56a-88f7-4034-c264-4625f78af279"
      },
      "execution_count": null,
      "outputs": [
        {
          "output_type": "stream",
          "name": "stderr",
          "text": [
            "\r  0%|          | 0/2015 [00:00<?, ?it/s]/usr/local/lib/python3.7/dist-packages/ipykernel_launcher.py:9: FutureWarning: The input object of type 'Tensor' is an array-like implementing one of the corresponding protocols (`__array__`, `__array_interface__` or `__array_struct__`); but not a sequence (or 0-D). In the future, this object will be coerced as if it was first converted using `np.array(obj)`. To retain the old behaviour, you have to either modify the type 'Tensor', or assign to an empty array created with `np.empty(correct_shape, dtype=object)`.\n",
            "  if __name__ == '__main__':\n",
            "/usr/local/lib/python3.7/dist-packages/ipykernel_launcher.py:9: VisibleDeprecationWarning: Creating an ndarray from ragged nested sequences (which is a list-or-tuple of lists-or-tuples-or ndarrays with different lengths or shapes) is deprecated. If you meant to do this, you must specify 'dtype=object' when creating the ndarray.\n",
            "  if __name__ == '__main__':\n",
            "/usr/local/lib/python3.7/dist-packages/ipykernel_launcher.py:15: UserWarning: To copy construct from a tensor, it is recommended to use sourceTensor.clone().detach() or sourceTensor.clone().detach().requires_grad_(True), rather than torch.tensor(sourceTensor).\n",
            "  from ipykernel import kernelapp as app\n",
            "/usr/local/lib/python3.7/dist-packages/ipykernel_launcher.py:30: UserWarning: To copy construct from a tensor, it is recommended to use sourceTensor.clone().detach() or sourceTensor.clone().detach().requires_grad_(True), rather than torch.tensor(sourceTensor).\n",
            "  7%|▋         | 151/2015 [00:55<12:40,  2.45it/s, Epoch=0, Train_loss=0.001]"
          ]
        }
      ]
    },
    {
      "cell_type": "code",
      "source": [
        ""
      ],
      "metadata": {
        "id": "VfMzvTVQy4n4"
      },
      "execution_count": null,
      "outputs": []
    }
  ]
}