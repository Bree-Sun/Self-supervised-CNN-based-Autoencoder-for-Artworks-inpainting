{
  "nbformat": 4,
  "nbformat_minor": 0,
  "metadata": {
    "colab": {
      "name": "Unet",
      "provenance": []
    },
    "kernelspec": {
      "name": "python3",
      "display_name": "Python 3"
    },
    "language_info": {
      "name": "python"
    }
  },
  "cells": [
    {
      "cell_type": "code",
      "execution_count": 11,
      "metadata": {
        "id": "ZgXwYdxNw0Ak"
      },
      "outputs": [],
      "source": [
        "import numpy as np\n",
        "import PIL\n",
        "import torch\n",
        "from torch import nn\n",
        "import torchvision\n",
        "import torchvision.transforms as transforms\n",
        "import matplotlib.pyplot as plt"
      ]
    },
    {
      "cell_type": "code",
      "source": [
        "def double_conv_layers(in_channels, out_channels, kernel_size, activation, padding=0, batch_norm=True):\n",
        "  '''\n",
        "  Return Double Convolutional layers given the input parameters\n",
        "\n",
        "  in_channels: input channels for the first convolutional layer\n",
        "  out_channels: output channels for the second convolutional layer\n",
        "  kernel_size: kernel size to use for both the layers\n",
        "  activation: activaiton to apply to both the layers, should pass a activation function and not string.\n",
        "  padding: padding to be applied to the inputs, by default no padding.\n",
        "  batch_norm: if True applies nn.BatchNorm2d() after every Convolutional layer.\n",
        "  '''\n",
        "\n",
        "  if batch_norm:\n",
        "    double_conv = nn.Sequential(\n",
        "                                nn.Conv2d(in_channels, out_channels, kernel_size, padding=padding),\n",
        "                                nn.BatchNorm2d(out_channels),\n",
        "                                activation(inplace=True),\n",
        "                                nn.Conv2d(out_channels, out_channels, kernel_size, padding=padding),\n",
        "                                nn.BatchNorm2d(out_channels),\n",
        "                                activation(inplace=True))\n",
        "  else:\n",
        "    double_conv = nn.Sequential(\n",
        "                                nn.Conv2d(out_channels, out_channels, kernel_size, padding=padding),\n",
        "                                activation(inplace=True),\n",
        "                                nn.Conv2d(out_channels, out_channels, kernel_size, padding=padding),\n",
        "                                activation(inplace=True))\n",
        "  \n",
        "  return double_conv\n",
        "\n",
        "def inception_module(inputs, channel_input_dict):\n",
        "  channel_1 = nn.Conv2d(in_channels=c1_in, out_channels=c1_out, kernel_size=1, stride=1, padding=1)\n",
        "\n",
        "  channel_2 = nn.Sequential(nn.Conv2d(in_channels=c2_in, out_channels=c2_out1, kernel_size=1, stride=1, padding=1),\n",
        "                            nn.Conv2d(in_channels=c2_out1, out_channels=c2_out2, kernel_size=1, stride=1, padding=1))\n",
        "  \n",
        "  channel_3 = nn.Sequential(nn.Conv2d(in_channels=c3_in, out_channels=c3_out1, kernel_size=5, stride=1, padding=1),\n",
        "                            nn.Conv2d(in_channels=c3_out1, out_channels=c3_out2, kernel_size=3, stride=1, padding=1))\n",
        "  \n",
        "  channel_4 = nn.Sequential(nn.MaxPool2d(kernel_size=3, stride=1, padding=1),\n",
        "                            nn.Conv2d(in_channels=c4_in, out_channels=c4_out, kernel_size=1, stride=1, padding=1))\n",
        "\n",
        "class UNet(nn.Module):\n",
        "  def __init__(self):\n",
        "    super().__init__()\n",
        "\n",
        "    # Down Conv Layers\n",
        "    self.down_conv1 = double_conv_layers(3, 64, 3, nn.ReLU, padding=1)\n",
        "    self.down_conv2 = double_conv_layers(64, 128, 3, nn.ReLU, padding=1)\n",
        "    self.down_conv3 = double_conv_layers(128, 256, 3, nn.ReLU, padding=1)\n",
        "    self.down_conv4 = double_conv_layers(256, 512, 3, nn.ReLU, padding=1)\n",
        "    \n",
        "    # Conv Transpose layers\n",
        "    self.up_transpose1 = nn.ConvTranspose2d(512, 256, 2, 2)\n",
        "    self.up_transpose2 = nn.ConvTranspose2d(256, 128, 2, 2)\n",
        "    self.up_transpose3 = nn.ConvTranspose2d(128, 64, 2, 2)\n",
        "    \n",
        "    # Up Conv Layers\n",
        "    self.up_conv1 = double_conv_layers(512, 256, 3, nn.ReLU, padding=1)\n",
        "    self.up_conv2 = double_conv_layers(256, 128, 3, nn.ReLU, padding=1)\n",
        "    self.up_conv3 = double_conv_layers(128, 64, 3, nn.ReLU, padding=1)\n",
        "\n",
        "    # final output conv\n",
        "    self.output_conv = nn.Conv2d(64, 3, 1)\n",
        "\n",
        "    # Maxpooling\n",
        "    self.maxpool = nn.MaxPool2d(kernel_size=2, stride=2)\n",
        "\n",
        "\n",
        "  def forward(self, input):\n",
        "\n",
        "    # Down Conv Encoder Part\n",
        "    print(f'Start : {input.shape}')\n",
        "    x1 = self.down_conv1(input)\n",
        "    print(f'After Down Conv 1 : {x1.shape}')\n",
        "    x = self.maxpool(x1)\n",
        "    print(f'After maxpool : {x.shape}')\n",
        "    x2 = self.down_conv2(x)\n",
        "    print(f'After Down Conv 2 : {x2.shape}')\n",
        "    x = self.maxpool(x2)\n",
        "    print(f'After maxpool : {x.shape}')\n",
        "    x3 = self.down_conv3(x)\n",
        "    print(f'After Down Conv 3 : {x3.shape}')\n",
        "    x = self.maxpool(x3)\n",
        "    print(f'After maxpool : {x.shape}')\n",
        "    x4 = self.down_conv4(x)\n",
        "    print(f'After Down Conv 4 : {x4.shape}')\n",
        "\n",
        "    # Up Conv Decoder Part\n",
        "    x = self.up_transpose1(x4)\n",
        "    print(f'After Up Transpose 1 : {x.shape}')\n",
        "    x = self.up_conv1(torch.cat([x, x3], 1)) # skip connection from down_conv3\n",
        "    print(f'After Up Conv 1 : {x.shape}')\n",
        "    x = self.up_transpose2(x)\n",
        "    print(f'After Up Transpose 2 : {x.shape}')\n",
        "    x = self.up_conv2(torch.cat([x, x2], 1)) # skip connection from down_conv2\n",
        "    print(f'After Up Conv 2 : {x.shape}')\n",
        "    x = self.up_transpose3(x)\n",
        "    print(f'After Up Transpose 3 : {x.shape}')\n",
        "    x = self.up_conv3(torch.cat([x, x1], 1)) # skip connection from down_conv1\n",
        "    print(f'After Up Conv 3 : {x.shape}')\n",
        "\n",
        "    # final output conv layer\n",
        "    x = self.output_conv(x)\n",
        "    print(f'After Final output conv : {x.shape}')\n",
        "\n",
        "    return x"
      ],
      "metadata": {
        "id": "Qt0q5E8gxu0C"
      },
      "execution_count": 2,
      "outputs": []
    },
    {
      "cell_type": "code",
      "source": [
        "image = torch.zeros(1, 3, 128, 128)\n",
        "model = UNet()\n",
        "x = model(image)"
      ],
      "metadata": {
        "colab": {
          "base_uri": "https://localhost:8080/"
        },
        "id": "zx6uFaJk-1ko",
        "outputId": "c49dccd1-1549-47da-fe60-ebe57ca25b43"
      },
      "execution_count": 44,
      "outputs": [
        {
          "output_type": "stream",
          "name": "stdout",
          "text": [
            "Start : torch.Size([1, 3, 128, 128])\n",
            "After Down Conv 1 : torch.Size([1, 64, 128, 128])\n",
            "After maxpool : torch.Size([1, 64, 64, 64])\n",
            "After Down Conv 2 : torch.Size([1, 128, 64, 64])\n",
            "After maxpool : torch.Size([1, 128, 32, 32])\n",
            "After Down Conv 3 : torch.Size([1, 256, 32, 32])\n",
            "After maxpool : torch.Size([1, 256, 16, 16])\n",
            "After Down Conv 4 : torch.Size([1, 512, 16, 16])\n",
            "After Up Transpose 1 : torch.Size([1, 256, 32, 32])\n",
            "After Up Conv 1 : torch.Size([1, 256, 32, 32])\n",
            "After Up Transpose 2 : torch.Size([1, 128, 64, 64])\n",
            "After Up Conv 2 : torch.Size([1, 128, 64, 64])\n",
            "After Up Transpose 3 : torch.Size([1, 64, 128, 128])\n",
            "After Up Conv 3 : torch.Size([1, 64, 128, 128])\n",
            "After Final output conv : torch.Size([1, 3, 128, 128])\n"
          ]
        }
      ]
    },
    {
      "cell_type": "code",
      "source": [
        ""
      ],
      "metadata": {
        "id": "8ISi0iQN30pY"
      },
      "execution_count": null,
      "outputs": []
    }
  ]
}